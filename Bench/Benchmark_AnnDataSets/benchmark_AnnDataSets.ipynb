{
 "cells": [
  {
   "cell_type": "code",
   "execution_count": 1,
   "metadata": {},
   "outputs": [],
   "source": [
    "from models import scLightning\n",
    "from ad_data import setup_ad_anndata_module\n",
    "\n",
    "from anndata_to_pytorch_dataloader.dataset import setup_anndata_datamodule, setup_simple_datamodule\n",
    "import anndata as ad\n",
    "import scanpy as sc\n",
    "\n",
    "import pytorch_lightning as pl\n",
    "\n",
    "import gdown\n",
    "import os\n",
    "import timeit"
   ]
  },
  {
   "cell_type": "markdown",
   "metadata": {},
   "source": [
    "# Download anndata"
   ]
  },
  {
   "cell_type": "code",
   "execution_count": 2,
   "metadata": {},
   "outputs": [
    {
     "name": "stdout",
     "output_type": "stream",
     "text": [
      "Found pancreas.h5ad.\n"
     ]
    }
   ],
   "source": [
    "url = 'https://drive.google.com/uc?id=1ehxgfHTsMZXy6YzlFKGJOsBKQ5rrvMnd'\n",
    "output = 'pancreas.h5ad'\n",
    "\n",
    "if not os.path.exists(output):\n",
    "    gdown.download(url, output, quiet=False)\n",
    "    print(f\"File '{output}' downloaded successfully.\")\n",
    "else:\n",
    "    print(f\"Found {output}.\")"
   ]
  },
  {
   "cell_type": "code",
   "execution_count": 3,
   "metadata": {},
   "outputs": [],
   "source": [
    "adata = sc.read_h5ad(\"pancreas.h5ad\")\n",
    "# Convert back to raw counts \n",
    "adata.X = adata.raw.X # put raw counts to .X\n",
    "adata.obs['size_factors'] = adata.X.sum(1)\n",
    "adata.var = adata.var.reset_index()\n",
    "adata.var.columns = [\"gene_name\"]\n",
    "# encode cell types for conversion to tensors \n",
    "ct_to_id_dict = {c : i for i, c in enumerate(adata.obs[\"cell_type\"].unique())}\n",
    "adata.obs[\"label\"] = adata.obs[\"cell_type\"].map(ct_to_id_dict)\n",
    "                                             "
   ]
  },
  {
   "cell_type": "code",
   "execution_count": 4,
   "metadata": {},
   "outputs": [
    {
     "name": "stderr",
     "output_type": "stream",
     "text": [
      "/Users/adr/miniconda3/envs/scvi_hack/lib/python3.9/site-packages/anndata/_core/anndata.py:183: ImplicitModificationWarning: Transforming to str index.\n",
      "  warnings.warn(\"Transforming to str index.\", ImplicitModificationWarning)\n",
      "/Users/adr/miniconda3/envs/scvi_hack/lib/python3.9/site-packages/sklearn/preprocessing/_encoders.py:975: FutureWarning: `sparse` was renamed to `sparse_output` in version 1.2 and will be removed in 1.4. `sparse_output` is ignored unless you leave `sparse` to its default value.\n",
      "  warnings.warn(\n",
      "/Users/adr/miniconda3/envs/scvi_hack/lib/python3.9/site-packages/anndata/_core/anndata.py:183: ImplicitModificationWarning: Transforming to str index.\n",
      "  warnings.warn(\"Transforming to str index.\", ImplicitModificationWarning)\n",
      "/Users/adr/miniconda3/envs/scvi_hack/lib/python3.9/site-packages/anndata/_core/anndata.py:183: ImplicitModificationWarning: Transforming to str index.\n",
      "  warnings.warn(\"Transforming to str index.\", ImplicitModificationWarning)\n",
      "/Users/adr/miniconda3/envs/scvi_hack/lib/python3.9/site-packages/anndata/_core/anndata.py:183: ImplicitModificationWarning: Transforming to str index.\n",
      "  warnings.warn(\"Transforming to str index.\", ImplicitModificationWarning)\n"
     ]
    }
   ],
   "source": [
    "ad_dm = setup_ad_anndata_module(adata=adata, train_frac=0.7, test_frac=0.2, val_frac=0.1)\n",
    "pt_dm = setup_simple_datamodule(adata=adata, train_frac=0.7, test_frac=0.2, val_frac=0.1, include_exprs=True,\n",
    "obs_fields=[\"label\"])\n",
    "\n"
   ]
  },
  {
   "cell_type": "code",
   "execution_count": 5,
   "metadata": {},
   "outputs": [],
   "source": [
    "# we first initialize a class \n",
    "model = scLightning(n_vars = adata.n_vars,\n",
    "                    n_classes=adata.obs[\"cell_type\"].nunique(), \n",
    "                    feature_var=\"X\", \n",
    "                    label_var=\"obs_label\")"
   ]
  },
  {
   "cell_type": "code",
   "execution_count": 6,
   "metadata": {},
   "outputs": [
    {
     "name": "stderr",
     "output_type": "stream",
     "text": [
      "GPU available: False, used: False\n",
      "TPU available: False, using: 0 TPU cores\n",
      "IPU available: False, using: 0 IPUs\n",
      "HPU available: False, using: 0 HPUs\n",
      "/Users/adr/miniconda3/envs/scvi_hack/lib/python3.9/site-packages/pytorch_lightning/trainer/connectors/logger_connector/logger_connector.py:67: Starting from v1.9.0, `tensorboardX` has been removed as a dependency of the `pytorch_lightning` package, due to potential conflicts with other packages in the ML ecosystem. For this reason, `logger=True` will use `CSVLogger` as the default logger, unless the `tensorboard` or `tensorboardX` packages are found. Please `pip install lightning[extra]` or one of them to enable TensorBoard support by default\n"
     ]
    }
   ],
   "source": [
    "# define a pytorch trainer\n",
    "trainer = pl.Trainer(devices=1, max_epochs=2, enable_checkpointing=False)"
   ]
  },
  {
   "cell_type": "code",
   "execution_count": 7,
   "metadata": {},
   "outputs": [
    {
     "name": "stderr",
     "output_type": "stream",
     "text": [
      "\n",
      "  | Name  | Type | Params\n",
      "-------------------------------\n",
      "0 | model | MLP  | 139 K \n",
      "-------------------------------\n",
      "139 K     Trainable params\n",
      "0         Non-trainable params\n",
      "139 K     Total params\n",
      "0.557     Total estimated model params size (MB)\n"
     ]
    },
    {
     "name": "stdout",
     "output_type": "stream",
     "text": [
      "Sanity Checking: |          | 0/? [00:00<?, ?it/s]"
     ]
    },
    {
     "name": "stderr",
     "output_type": "stream",
     "text": [
      "/Users/adr/miniconda3/envs/scvi_hack/lib/python3.9/site-packages/pytorch_lightning/trainer/connectors/data_connector.py:492: Your `val_dataloader`'s sampler has shuffling enabled, it is strongly recommended that you turn shuffling off for val/test dataloaders.\n",
      "/Users/adr/miniconda3/envs/scvi_hack/lib/python3.9/site-packages/pytorch_lightning/trainer/connectors/data_connector.py:436: Consider setting `persistent_workers=True` in 'val_dataloader' to speed up the dataloader worker initialization.\n"
     ]
    },
    {
     "name": "stdout",
     "output_type": "stream",
     "text": [
      "                                                                           \r"
     ]
    },
    {
     "name": "stderr",
     "output_type": "stream",
     "text": [
      "/Users/adr/miniconda3/envs/scvi_hack/lib/python3.9/site-packages/pytorch_lightning/trainer/connectors/data_connector.py:436: Consider setting `persistent_workers=True` in 'train_dataloader' to speed up the dataloader worker initialization.\n",
      "/Users/adr/miniconda3/envs/scvi_hack/lib/python3.9/site-packages/pytorch_lightning/loops/fit_loop.py:293: The number of training batches (22) is smaller than the logging interval Trainer(log_every_n_steps=50). Set a lower value for log_every_n_steps if you want to see logs for the training epoch.\n"
     ]
    },
    {
     "name": "stdout",
     "output_type": "stream",
     "text": [
      "Epoch 1: 100%|██████████| 22/22 [00:10<00:00,  2.07it/s, v_num=13, train/loss=0.612, val/loss=0.525, val/acc=0.934, train/acc=0.715]"
     ]
    },
    {
     "name": "stderr",
     "output_type": "stream",
     "text": [
      "`Trainer.fit` stopped: `max_epochs=2` reached.\n"
     ]
    },
    {
     "name": "stdout",
     "output_type": "stream",
     "text": [
      "Epoch 1: 100%|██████████| 22/22 [00:10<00:00,  2.07it/s, v_num=13, train/loss=0.612, val/loss=0.525, val/acc=0.934, train/acc=0.715]\n"
     ]
    }
   ],
   "source": [
    "# lightning handles all of the training\n",
    "trainer.fit(model, pt_dm)"
   ]
  },
  {
   "cell_type": "code",
   "execution_count": null,
   "metadata": {},
   "outputs": [],
   "source": []
  },
  {
   "cell_type": "code",
   "execution_count": null,
   "metadata": {},
   "outputs": [],
   "source": []
  },
  {
   "cell_type": "code",
   "execution_count": 8,
   "metadata": {},
   "outputs": [],
   "source": [
    "from sklearn.preprocessing import OneHotEncoder, LabelEncoder\n",
    "import numpy as np"
   ]
  },
  {
   "cell_type": "code",
   "execution_count": 9,
   "metadata": {},
   "outputs": [
    {
     "name": "stderr",
     "output_type": "stream",
     "text": [
      "/Users/adr/miniconda3/envs/scvi_hack/lib/python3.9/site-packages/sklearn/preprocessing/_encoders.py:975: FutureWarning: `sparse` was renamed to `sparse_output` in version 1.2 and will be removed in 1.4. `sparse_output` is ignored unless you leave `sparse` to its default value.\n",
      "  warnings.warn(\n"
     ]
    },
    {
     "data": {
      "text/html": [
       "<style>#sk-container-id-1 {color: black;}#sk-container-id-1 pre{padding: 0;}#sk-container-id-1 div.sk-toggleable {background-color: white;}#sk-container-id-1 label.sk-toggleable__label {cursor: pointer;display: block;width: 100%;margin-bottom: 0;padding: 0.3em;box-sizing: border-box;text-align: center;}#sk-container-id-1 label.sk-toggleable__label-arrow:before {content: \"▸\";float: left;margin-right: 0.25em;color: #696969;}#sk-container-id-1 label.sk-toggleable__label-arrow:hover:before {color: black;}#sk-container-id-1 div.sk-estimator:hover label.sk-toggleable__label-arrow:before {color: black;}#sk-container-id-1 div.sk-toggleable__content {max-height: 0;max-width: 0;overflow: hidden;text-align: left;background-color: #f0f8ff;}#sk-container-id-1 div.sk-toggleable__content pre {margin: 0.2em;color: black;border-radius: 0.25em;background-color: #f0f8ff;}#sk-container-id-1 input.sk-toggleable__control:checked~div.sk-toggleable__content {max-height: 200px;max-width: 100%;overflow: auto;}#sk-container-id-1 input.sk-toggleable__control:checked~label.sk-toggleable__label-arrow:before {content: \"▾\";}#sk-container-id-1 div.sk-estimator input.sk-toggleable__control:checked~label.sk-toggleable__label {background-color: #d4ebff;}#sk-container-id-1 div.sk-label input.sk-toggleable__control:checked~label.sk-toggleable__label {background-color: #d4ebff;}#sk-container-id-1 input.sk-hidden--visually {border: 0;clip: rect(1px 1px 1px 1px);clip: rect(1px, 1px, 1px, 1px);height: 1px;margin: -1px;overflow: hidden;padding: 0;position: absolute;width: 1px;}#sk-container-id-1 div.sk-estimator {font-family: monospace;background-color: #f0f8ff;border: 1px dotted black;border-radius: 0.25em;box-sizing: border-box;margin-bottom: 0.5em;}#sk-container-id-1 div.sk-estimator:hover {background-color: #d4ebff;}#sk-container-id-1 div.sk-parallel-item::after {content: \"\";width: 100%;border-bottom: 1px solid gray;flex-grow: 1;}#sk-container-id-1 div.sk-label:hover label.sk-toggleable__label {background-color: #d4ebff;}#sk-container-id-1 div.sk-serial::before {content: \"\";position: absolute;border-left: 1px solid gray;box-sizing: border-box;top: 0;bottom: 0;left: 50%;z-index: 0;}#sk-container-id-1 div.sk-serial {display: flex;flex-direction: column;align-items: center;background-color: white;padding-right: 0.2em;padding-left: 0.2em;position: relative;}#sk-container-id-1 div.sk-item {position: relative;z-index: 1;}#sk-container-id-1 div.sk-parallel {display: flex;align-items: stretch;justify-content: center;background-color: white;position: relative;}#sk-container-id-1 div.sk-item::before, #sk-container-id-1 div.sk-parallel-item::before {content: \"\";position: absolute;border-left: 1px solid gray;box-sizing: border-box;top: 0;bottom: 0;left: 50%;z-index: -1;}#sk-container-id-1 div.sk-parallel-item {display: flex;flex-direction: column;z-index: 1;position: relative;background-color: white;}#sk-container-id-1 div.sk-parallel-item:first-child::after {align-self: flex-end;width: 50%;}#sk-container-id-1 div.sk-parallel-item:last-child::after {align-self: flex-start;width: 50%;}#sk-container-id-1 div.sk-parallel-item:only-child::after {width: 0;}#sk-container-id-1 div.sk-dashed-wrapped {border: 1px dashed gray;margin: 0 0.4em 0.5em 0.4em;box-sizing: border-box;padding-bottom: 0.4em;background-color: white;}#sk-container-id-1 div.sk-label label {font-family: monospace;font-weight: bold;display: inline-block;line-height: 1.2em;}#sk-container-id-1 div.sk-label-container {text-align: center;}#sk-container-id-1 div.sk-container {/* jupyter's `normalize.less` sets `[hidden] { display: none; }` but bootstrap.min.css set `[hidden] { display: none !important; }` so we also need the `!important` here to be able to override the default hidden behavior on the sphinx rendered scikit-learn.org. See: https://github.com/scikit-learn/scikit-learn/issues/21755 */display: inline-block !important;position: relative;}#sk-container-id-1 div.sk-text-repr-fallback {display: none;}</style><div id=\"sk-container-id-1\" class=\"sk-top-container\"><div class=\"sk-text-repr-fallback\"><pre>LabelEncoder()</pre><b>In a Jupyter environment, please rerun this cell to show the HTML representation or trust the notebook. <br />On GitHub, the HTML representation is unable to render, please try loading this page with nbviewer.org.</b></div><div class=\"sk-container\" hidden><div class=\"sk-item\"><div class=\"sk-estimator sk-toggleable\"><input class=\"sk-toggleable__control sk-hidden--visually\" id=\"sk-estimator-id-1\" type=\"checkbox\" checked><label for=\"sk-estimator-id-1\" class=\"sk-toggleable__label sk-toggleable__label-arrow\">LabelEncoder</label><div class=\"sk-toggleable__content\"><pre>LabelEncoder()</pre></div></div></div></div></div>"
      ],
      "text/plain": [
       "LabelEncoder()"
      ]
     },
     "execution_count": 9,
     "metadata": {},
     "output_type": "execute_result"
    }
   ],
   "source": [
    "encoder_study = OneHotEncoder(sparse=False, dtype=np.float32)\n",
    "encoder_study.fit(adata.obs['study'].to_numpy()[:, None])\n",
    "encoder_celltype = LabelEncoder()\n",
    "encoder_celltype.fit(adata.obs['cell_type'])"
   ]
  },
  {
   "cell_type": "code",
   "execution_count": 10,
   "metadata": {},
   "outputs": [],
   "source": [
    "encoders = {\n",
    "    'obs': {\n",
    "        'study': lambda s: encoder_study.transform(s.to_numpy()[:, None]),\n",
    "        'cell_type': encoder_celltype.transform\n",
    "    }\n",
    "}"
   ]
  },
  {
   "cell_type": "code",
   "execution_count": 11,
   "metadata": {},
   "outputs": [],
   "source": [
    "t = ad.experimental.AnnLoader(adata, batch_size=128, shuffle=True, convert=encoders)"
   ]
  },
  {
   "cell_type": "code",
   "execution_count": 12,
   "metadata": {},
   "outputs": [
    {
     "name": "stdout",
     "output_type": "stream",
     "text": [
      "<anndata.experimental.pytorch._annloader.AnnLoader object at 0x7fcc99becc40>\n",
      "<anndata.experimental.pytorch._annloader.AnnLoader object at 0x7fcc99becc40>\n",
      "<anndata.experimental.pytorch._annloader.AnnLoader object at 0x7fcc99becc40>\n",
      "<anndata.experimental.pytorch._annloader.AnnLoader object at 0x7fcc99becc40>\n",
      "<anndata.experimental.pytorch._annloader.AnnLoader object at 0x7fcc99becc40>\n",
      "<anndata.experimental.pytorch._annloader.AnnLoader object at 0x7fcc99becc40>\n",
      "<anndata.experimental.pytorch._annloader.AnnLoader object at 0x7fcc99becc40>\n",
      "<anndata.experimental.pytorch._annloader.AnnLoader object at 0x7fcc99becc40>\n",
      "<anndata.experimental.pytorch._annloader.AnnLoader object at 0x7fcc99becc40>\n",
      "<anndata.experimental.pytorch._annloader.AnnLoader object at 0x7fcc99becc40>\n",
      "<anndata.experimental.pytorch._annloader.AnnLoader object at 0x7fcc99becc40>\n",
      "<anndata.experimental.pytorch._annloader.AnnLoader object at 0x7fcc99becc40>\n",
      "<anndata.experimental.pytorch._annloader.AnnLoader object at 0x7fcc99becc40>\n",
      "<anndata.experimental.pytorch._annloader.AnnLoader object at 0x7fcc99becc40>\n",
      "<anndata.experimental.pytorch._annloader.AnnLoader object at 0x7fcc99becc40>\n",
      "<anndata.experimental.pytorch._annloader.AnnLoader object at 0x7fcc99becc40>\n",
      "<anndata.experimental.pytorch._annloader.AnnLoader object at 0x7fcc99becc40>\n",
      "<anndata.experimental.pytorch._annloader.AnnLoader object at 0x7fcc99becc40>\n",
      "<anndata.experimental.pytorch._annloader.AnnLoader object at 0x7fcc99becc40>\n",
      "<anndata.experimental.pytorch._annloader.AnnLoader object at 0x7fcc99becc40>\n",
      "<anndata.experimental.pytorch._annloader.AnnLoader object at 0x7fcc99becc40>\n",
      "<anndata.experimental.pytorch._annloader.AnnLoader object at 0x7fcc99becc40>\n",
      "<anndata.experimental.pytorch._annloader.AnnLoader object at 0x7fcc99becc40>\n",
      "<anndata.experimental.pytorch._annloader.AnnLoader object at 0x7fcc99becc40>\n",
      "<anndata.experimental.pytorch._annloader.AnnLoader object at 0x7fcc99becc40>\n",
      "<anndata.experimental.pytorch._annloader.AnnLoader object at 0x7fcc99becc40>\n",
      "<anndata.experimental.pytorch._annloader.AnnLoader object at 0x7fcc99becc40>\n",
      "<anndata.experimental.pytorch._annloader.AnnLoader object at 0x7fcc99becc40>\n",
      "<anndata.experimental.pytorch._annloader.AnnLoader object at 0x7fcc99becc40>\n",
      "<anndata.experimental.pytorch._annloader.AnnLoader object at 0x7fcc99becc40>\n",
      "<anndata.experimental.pytorch._annloader.AnnLoader object at 0x7fcc99becc40>\n",
      "<anndata.experimental.pytorch._annloader.AnnLoader object at 0x7fcc99becc40>\n",
      "<anndata.experimental.pytorch._annloader.AnnLoader object at 0x7fcc99becc40>\n",
      "<anndata.experimental.pytorch._annloader.AnnLoader object at 0x7fcc99becc40>\n",
      "<anndata.experimental.pytorch._annloader.AnnLoader object at 0x7fcc99becc40>\n",
      "<anndata.experimental.pytorch._annloader.AnnLoader object at 0x7fcc99becc40>\n",
      "<anndata.experimental.pytorch._annloader.AnnLoader object at 0x7fcc99becc40>\n",
      "<anndata.experimental.pytorch._annloader.AnnLoader object at 0x7fcc99becc40>\n",
      "<anndata.experimental.pytorch._annloader.AnnLoader object at 0x7fcc99becc40>\n",
      "<anndata.experimental.pytorch._annloader.AnnLoader object at 0x7fcc99becc40>\n",
      "<anndata.experimental.pytorch._annloader.AnnLoader object at 0x7fcc99becc40>\n",
      "<anndata.experimental.pytorch._annloader.AnnLoader object at 0x7fcc99becc40>\n",
      "<anndata.experimental.pytorch._annloader.AnnLoader object at 0x7fcc99becc40>\n",
      "<anndata.experimental.pytorch._annloader.AnnLoader object at 0x7fcc99becc40>\n",
      "<anndata.experimental.pytorch._annloader.AnnLoader object at 0x7fcc99becc40>\n",
      "<anndata.experimental.pytorch._annloader.AnnLoader object at 0x7fcc99becc40>\n",
      "<anndata.experimental.pytorch._annloader.AnnLoader object at 0x7fcc99becc40>\n",
      "<anndata.experimental.pytorch._annloader.AnnLoader object at 0x7fcc99becc40>\n",
      "<anndata.experimental.pytorch._annloader.AnnLoader object at 0x7fcc99becc40>\n",
      "<anndata.experimental.pytorch._annloader.AnnLoader object at 0x7fcc99becc40>\n",
      "<anndata.experimental.pytorch._annloader.AnnLoader object at 0x7fcc99becc40>\n",
      "<anndata.experimental.pytorch._annloader.AnnLoader object at 0x7fcc99becc40>\n",
      "<anndata.experimental.pytorch._annloader.AnnLoader object at 0x7fcc99becc40>\n",
      "<anndata.experimental.pytorch._annloader.AnnLoader object at 0x7fcc99becc40>\n",
      "<anndata.experimental.pytorch._annloader.AnnLoader object at 0x7fcc99becc40>\n",
      "<anndata.experimental.pytorch._annloader.AnnLoader object at 0x7fcc99becc40>\n",
      "<anndata.experimental.pytorch._annloader.AnnLoader object at 0x7fcc99becc40>\n",
      "<anndata.experimental.pytorch._annloader.AnnLoader object at 0x7fcc99becc40>\n",
      "<anndata.experimental.pytorch._annloader.AnnLoader object at 0x7fcc99becc40>\n",
      "<anndata.experimental.pytorch._annloader.AnnLoader object at 0x7fcc99becc40>\n",
      "<anndata.experimental.pytorch._annloader.AnnLoader object at 0x7fcc99becc40>\n",
      "<anndata.experimental.pytorch._annloader.AnnLoader object at 0x7fcc99becc40>\n",
      "<anndata.experimental.pytorch._annloader.AnnLoader object at 0x7fcc99becc40>\n",
      "<anndata.experimental.pytorch._annloader.AnnLoader object at 0x7fcc99becc40>\n",
      "<anndata.experimental.pytorch._annloader.AnnLoader object at 0x7fcc99becc40>\n",
      "<anndata.experimental.pytorch._annloader.AnnLoader object at 0x7fcc99becc40>\n",
      "<anndata.experimental.pytorch._annloader.AnnLoader object at 0x7fcc99becc40>\n",
      "<anndata.experimental.pytorch._annloader.AnnLoader object at 0x7fcc99becc40>\n",
      "<anndata.experimental.pytorch._annloader.AnnLoader object at 0x7fcc99becc40>\n",
      "<anndata.experimental.pytorch._annloader.AnnLoader object at 0x7fcc99becc40>\n",
      "<anndata.experimental.pytorch._annloader.AnnLoader object at 0x7fcc99becc40>\n",
      "<anndata.experimental.pytorch._annloader.AnnLoader object at 0x7fcc99becc40>\n",
      "<anndata.experimental.pytorch._annloader.AnnLoader object at 0x7fcc99becc40>\n",
      "<anndata.experimental.pytorch._annloader.AnnLoader object at 0x7fcc99becc40>\n",
      "<anndata.experimental.pytorch._annloader.AnnLoader object at 0x7fcc99becc40>\n",
      "<anndata.experimental.pytorch._annloader.AnnLoader object at 0x7fcc99becc40>\n",
      "<anndata.experimental.pytorch._annloader.AnnLoader object at 0x7fcc99becc40>\n",
      "<anndata.experimental.pytorch._annloader.AnnLoader object at 0x7fcc99becc40>\n",
      "<anndata.experimental.pytorch._annloader.AnnLoader object at 0x7fcc99becc40>\n",
      "<anndata.experimental.pytorch._annloader.AnnLoader object at 0x7fcc99becc40>\n",
      "<anndata.experimental.pytorch._annloader.AnnLoader object at 0x7fcc99becc40>\n",
      "<anndata.experimental.pytorch._annloader.AnnLoader object at 0x7fcc99becc40>\n",
      "<anndata.experimental.pytorch._annloader.AnnLoader object at 0x7fcc99becc40>\n",
      "<anndata.experimental.pytorch._annloader.AnnLoader object at 0x7fcc99becc40>\n",
      "<anndata.experimental.pytorch._annloader.AnnLoader object at 0x7fcc99becc40>\n",
      "<anndata.experimental.pytorch._annloader.AnnLoader object at 0x7fcc99becc40>\n",
      "<anndata.experimental.pytorch._annloader.AnnLoader object at 0x7fcc99becc40>\n",
      "<anndata.experimental.pytorch._annloader.AnnLoader object at 0x7fcc99becc40>\n",
      "<anndata.experimental.pytorch._annloader.AnnLoader object at 0x7fcc99becc40>\n",
      "<anndata.experimental.pytorch._annloader.AnnLoader object at 0x7fcc99becc40>\n",
      "<anndata.experimental.pytorch._annloader.AnnLoader object at 0x7fcc99becc40>\n",
      "<anndata.experimental.pytorch._annloader.AnnLoader object at 0x7fcc99becc40>\n",
      "<anndata.experimental.pytorch._annloader.AnnLoader object at 0x7fcc99becc40>\n",
      "<anndata.experimental.pytorch._annloader.AnnLoader object at 0x7fcc99becc40>\n",
      "<anndata.experimental.pytorch._annloader.AnnLoader object at 0x7fcc99becc40>\n",
      "<anndata.experimental.pytorch._annloader.AnnLoader object at 0x7fcc99becc40>\n",
      "<anndata.experimental.pytorch._annloader.AnnLoader object at 0x7fcc99becc40>\n",
      "<anndata.experimental.pytorch._annloader.AnnLoader object at 0x7fcc99becc40>\n",
      "<anndata.experimental.pytorch._annloader.AnnLoader object at 0x7fcc99becc40>\n",
      "<anndata.experimental.pytorch._annloader.AnnLoader object at 0x7fcc99becc40>\n",
      "<anndata.experimental.pytorch._annloader.AnnLoader object at 0x7fcc99becc40>\n",
      "<anndata.experimental.pytorch._annloader.AnnLoader object at 0x7fcc99becc40>\n",
      "<anndata.experimental.pytorch._annloader.AnnLoader object at 0x7fcc99becc40>\n",
      "<anndata.experimental.pytorch._annloader.AnnLoader object at 0x7fcc99becc40>\n",
      "<anndata.experimental.pytorch._annloader.AnnLoader object at 0x7fcc99becc40>\n",
      "<anndata.experimental.pytorch._annloader.AnnLoader object at 0x7fcc99becc40>\n",
      "<anndata.experimental.pytorch._annloader.AnnLoader object at 0x7fcc99becc40>\n",
      "<anndata.experimental.pytorch._annloader.AnnLoader object at 0x7fcc99becc40>\n",
      "<anndata.experimental.pytorch._annloader.AnnLoader object at 0x7fcc99becc40>\n",
      "<anndata.experimental.pytorch._annloader.AnnLoader object at 0x7fcc99becc40>\n",
      "<anndata.experimental.pytorch._annloader.AnnLoader object at 0x7fcc99becc40>\n",
      "<anndata.experimental.pytorch._annloader.AnnLoader object at 0x7fcc99becc40>\n",
      "<anndata.experimental.pytorch._annloader.AnnLoader object at 0x7fcc99becc40>\n",
      "<anndata.experimental.pytorch._annloader.AnnLoader object at 0x7fcc99becc40>\n",
      "<anndata.experimental.pytorch._annloader.AnnLoader object at 0x7fcc99becc40>\n",
      "<anndata.experimental.pytorch._annloader.AnnLoader object at 0x7fcc99becc40>\n",
      "<anndata.experimental.pytorch._annloader.AnnLoader object at 0x7fcc99becc40>\n",
      "<anndata.experimental.pytorch._annloader.AnnLoader object at 0x7fcc99becc40>\n",
      "<anndata.experimental.pytorch._annloader.AnnLoader object at 0x7fcc99becc40>\n",
      "<anndata.experimental.pytorch._annloader.AnnLoader object at 0x7fcc99becc40>\n",
      "<anndata.experimental.pytorch._annloader.AnnLoader object at 0x7fcc99becc40>\n",
      "<anndata.experimental.pytorch._annloader.AnnLoader object at 0x7fcc99becc40>\n",
      "<anndata.experimental.pytorch._annloader.AnnLoader object at 0x7fcc99becc40>\n"
     ]
    }
   ],
   "source": [
    "for b in t:\n",
    "    print(t)"
   ]
  },
  {
   "cell_type": "code",
   "execution_count": null,
   "metadata": {},
   "outputs": [],
   "source": []
  },
  {
   "cell_type": "code",
   "execution_count": null,
   "metadata": {},
   "outputs": [],
   "source": []
  }
 ],
 "metadata": {
  "kernelspec": {
   "display_name": "scvi_hack",
   "language": "python",
   "name": "python3"
  },
  "language_info": {
   "codemirror_mode": {
    "name": "ipython",
    "version": 3
   },
   "file_extension": ".py",
   "mimetype": "text/x-python",
   "name": "python",
   "nbconvert_exporter": "python",
   "pygments_lexer": "ipython3",
   "version": "3.9.18"
  }
 },
 "nbformat": 4,
 "nbformat_minor": 2
}
