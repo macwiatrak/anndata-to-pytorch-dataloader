{
 "cells": [
  {
   "cell_type": "markdown",
   "id": "integral-pendant",
   "metadata": {},
   "source": [
    "# Create random dask dataframe of VisiumHD data"
   ]
  },
  {
   "cell_type": "code",
   "execution_count": 111,
   "id": "sound-spiritual",
   "metadata": {},
   "outputs": [],
   "source": [
    "import dask"
   ]
  },
  {
   "cell_type": "code",
   "execution_count": 112,
   "id": "nutritional-sacrifice",
   "metadata": {},
   "outputs": [
    {
     "name": "stdout",
     "output_type": "stream",
     "text": [
      "adata_vis_apical.h5ad\t\t\t  gene_expression_16bit.tiff\n",
      "cellpose_segmentation_16bit.tiff\t  raw_feature_bc_matrix.h5\n",
      "cellpose_segmentation_HE_16bit_full.tiff  spatial\n",
      "cellpose_segmentation_HE_16bit.tiff\t  tissue_annotations\n",
      "filtered_feature_bc_matrix.h5\n"
     ]
    }
   ],
   "source": [
    "!ls ~/analysis/random_data/Visium_HD_hprostate_mbrain/mBrain/standard_format_002"
   ]
  },
  {
   "cell_type": "code",
   "execution_count": 42,
   "id": "partial-tucson",
   "metadata": {},
   "outputs": [],
   "source": [
    "!mkdir data"
   ]
  },
  {
   "cell_type": "code",
   "execution_count": 21,
   "id": "cheap-lloyd",
   "metadata": {},
   "outputs": [
    {
     "name": "stderr",
     "output_type": "stream",
     "text": [
      "Variable names are not unique. To make them unique, call `.var_names_make_unique`.\n",
      "Variable names are not unique. To make them unique, call `.var_names_make_unique`.\n",
      "/opt/conda/envs/teichlab/lib/python3.8/site-packages/IPython/core/interactiveshell.py:3357: DtypeWarning: Columns (1,2,3,4,5) have mixed types.Specify dtype option on import or set low_memory=False.\n",
      "  if (await self.run_code(code, result,  async_=asy)):\n"
     ]
    }
   ],
   "source": [
    "import scanpy as sc\n",
    "\n",
    "data_path = '/nfs/team205/ny1/playground/visium_hd/Visium_HD_hprostate_mbrain/mBrain/standard_format_002/' #\"~/analysis/random_data/Visium_HD_hprostate_mbrain/mBrain/standard_format_002\"\n",
    "# load visium hd object after rearranging the files a bit to fit the old format\n",
    "adata_vis = sc.read_visium(path=data_path, count_file='raw_feature_bc_matrix.h5')\n",
    "sc.pp.calculate_qc_metrics(adata_vis, inplace=True)\n",
    "\n",
    "adata_vis.obs['sample'] = list(adata_vis.uns['spatial'].keys())[0]\n",
    "adata_vis.obsm['spatial_array'] = adata_vis.obs[['array_row', 'array_col']].astype(int).copy().values\n",
    "\n",
    "adata_vis.var['SYMBOL'] = adata_vis.var_names\n",
    "adata_vis.var.set_index('gene_ids', drop=True, inplace=True)\n",
    "\n",
    "adata_vis.write(f'{results_folder}')"
   ]
  },
  {
   "cell_type": "code",
   "execution_count": 113,
   "id": "offensive-mexico",
   "metadata": {},
   "outputs": [],
   "source": [
    "def generate_data(n_points: int, n_categories: int, x_um: float, y_um: float, filename: str):\n",
    "    # create a dask array that contains VisiumHD data as an image ie dim 1 is x-axis, dim 2 is y axis, dim 3 is genes\n",
    "    # n_categories: number of genes\n",
    "    # x_um: exclusive upper bound on x coordinates (lower bound is zero by default)\n",
    "    # y_um: exclusive upper bound on y coordinates (lower bound is zero by default)\n",
    "    # n_points: \n",
    "    \n",
    "    array = dask.array.random.randint(low=0, high=50, size=( n_categories, x_um, y_um))\n",
    "\n",
    "    print(df.compute() )\n",
    "\n",
    "    array_mask = dask.array.random.binomial(n=1, p=n_points/(x_um*y_um), size=(1, x_um, y_um))\n",
    "\n",
    "    print(df_mask.compute() )\n",
    "\n",
    "    array = dask.array.multiply(df, df_mask)\n",
    "\n",
    "    print(array.compute() )\n",
    "    \n",
    "    # convert array to dataframe\n",
    "    \n",
    "\n",
    "    if filename!=None:\n",
    "        array.to_csv('data/*.csv', name_function=filename)\n",
    "        \n",
    "    return df"
   ]
  },
  {
   "cell_type": "code",
   "execution_count": 66,
   "id": "several-australia",
   "metadata": {},
   "outputs": [
    {
     "name": "stdout",
     "output_type": "stream",
     "text": [
      "[[[46  0 34]\n",
      "  [ 0 15  0]\n",
      "  [20  0  0]]\n",
      "\n",
      " [[45  0  6]\n",
      "  [ 0 41  0]\n",
      "  [19  0  0]]\n",
      "\n",
      " [[ 8  0  2]\n",
      "  [ 0 27  0]\n",
      "  [21  0  0]]\n",
      "\n",
      " [[ 2  0 27]\n",
      "  [ 0  2  0]\n",
      "  [ 8  0  0]]]\n",
      "[[[1 0 1]\n",
      "  [0 1 0]\n",
      "  [1 0 0]]]\n",
      "[[[46  0 34]\n",
      "  [ 0 15  0]\n",
      "  [20  0  0]]\n",
      "\n",
      " [[45  0  6]\n",
      "  [ 0 41  0]\n",
      "  [19  0  0]]\n",
      "\n",
      " [[ 8  0  2]\n",
      "  [ 0 27  0]\n",
      "  [21  0  0]]\n",
      "\n",
      " [[ 2  0 27]\n",
      "  [ 0  2  0]\n",
      "  [ 8  0  0]]]\n",
      "[[[46  0 34]\n",
      "  [ 0 15  0]\n",
      "  [20  0  0]]\n",
      "\n",
      " [[45  0  6]\n",
      "  [ 0 41  0]\n",
      "  [19  0  0]]\n",
      "\n",
      " [[ 8  0  2]\n",
      "  [ 0 27  0]\n",
      "  [21  0  0]]\n",
      "\n",
      " [[ 2  0 27]\n",
      "  [ 0  2  0]\n",
      "  [ 8  0  0]]]\n"
     ]
    }
   ],
   "source": [
    "df_dask = generate_data(x_um=3, y_um=3, n_points=5, n_categories=4, filename=None)\n",
    "\n",
    "print(df.compute() )"
   ]
  },
  {
   "cell_type": "code",
   "execution_count": 116,
   "id": "diagnostic-bennett",
   "metadata": {},
   "outputs": [
    {
     "name": "stdout",
     "output_type": "stream",
     "text": [
      "the count matrix is \n",
      " [[27 11  0 29]\n",
      " [20  6  5 37]\n",
      " [41 29 26 25]\n",
      " [46  4 23  5]\n",
      " [ 9 33 47  4]\n",
      " [27 36 46 28]\n",
      " [33 48 47 34]\n",
      " [18 16 14  3]\n",
      " [15  7 23 45]]\n",
      "the VisiumHD is \n",
      "    gene0  gene1  gene2  gene3  x  y\n",
      "0     27     11      0     29  0  0\n",
      "1     20      6      5     37  0  1\n",
      "2     41     29     26     25  0  2\n",
      "3     46      4     23      5  1  0\n",
      "4      9     33     47      4  1  1\n",
      "5     27     36     46     28  1  2\n",
      "6     33     48     47     34  2  0\n",
      "7     18     16     14      3  2  1\n",
      "8     15      7     23     45  2  2\n"
     ]
    }
   ],
   "source": [
    "import itertools\n",
    "import numpy as np\n",
    "import dask.dataframe as dd\n",
    "import pandas as pd\n",
    "\n",
    "def generate_ct_matrix(n_points: int, n_categories: int, x_um: float, y_um: float, filename: str):\n",
    "    # create a dask dataframe that contains VisiumHD data as a count matrix with the x,y coordinates as extra columns\n",
    "    # n_categories: number of genes\n",
    "    # x_um: exclusive upper bound on x coordinates (lower bound is zero by default)\n",
    "    # y_um: exclusive upper bound on y coordinates (lower bound is zero by default)\n",
    "    # n_points: \n",
    "    \n",
    "    \n",
    "    # coordinates\n",
    "    x_coords = np.arange(x_um)\n",
    "    y_coords = np.arange(y_um)\n",
    "    \n",
    "    # create column values of coordinates\n",
    "    somelists = [x_coords, y_coords]\n",
    "    coords = [element for element in itertools.product(*somelists)]\n",
    "    \n",
    "    # convert coords to dask arrays\n",
    "    coords_x_list = [coord[0]  for coord in coords ]\n",
    "    coords_x = dask.array.from_array(coords_x_list, chunks=len(coords_x_list)  )\n",
    "    coords_y_list = [coord[1]  for coord in coords ]\n",
    "    coords_y = dask.array.from_array(coords_y_list, chunks=len(coords_y_list)  )\n",
    "\n",
    "    # generate count matrix (spot-by-categories)\n",
    "    array = dask.array.random.randint(low=0, high=50, size=( len(coords), n_categories)  )\n",
    "    print(f'the count matrix is \\n {array.compute()}' )\n",
    "\n",
    "    # convert to dask dataframe\n",
    "    df = dd.io.from_dask_array(array, columns=['gene'+str(i) for i in range(n_categories) ])\n",
    "    coords_x_df = dd.io.from_dask_array(coords_x, columns=['x' ])\n",
    "    coords_y_df = dd.io.from_dask_array(coords_y, columns=['y' ])\n",
    "\n",
    "    # add coords as new column\n",
    "    df = df.merge(coords_x_df)\n",
    "    df = df.merge(coords_y_df)        \n",
    "    print(f'the VisiumHD is \\n {df.compute()}' )\n",
    "    \n",
    "    # convert array to dataframe\n",
    "    \n",
    "\n",
    "    if filename!=None:\n",
    "        array.to_csv('data/*.csv', name_function=filename)\n",
    "        \n",
    "    return df\n",
    "\n",
    "\n",
    "df = generate_ct_matrix(x_um=3, y_um=3, n_points=5, n_categories=4, filename=None)"
   ]
  },
  {
   "cell_type": "code",
   "execution_count": 121,
   "id": "unlike-synthetic",
   "metadata": {},
   "outputs": [
    {
     "name": "stdout",
     "output_type": "stream",
     "text": [
      "the read file is  \n",
      "    gene0  gene1  gene2  gene3  x  y\n",
      "0     27     11      0     29  0  0\n",
      "1     20      6      5     37  0  1\n",
      "2     41     29     26     25  0  2\n",
      "3     46      4     23      5  1  0\n",
      "4      9     33     47      4  1  1\n",
      "5     27     36     46     28  1  2\n",
      "6     33     48     47     34  2  0\n",
      "7     18     16     14      3  2  1\n",
      "8     15      7     23     45  2  2\n"
     ]
    }
   ],
   "source": [
    "def write_to_parquet(df: dask.dataframe, filename: str) -> None:\n",
    "    # convert the dask dataframe to anndata\n",
    "    \n",
    "    #df_exp = df.compute()\n",
    "    dd.to_parquet(df, \"data/\"+filename)\n",
    "     \n",
    "write_to_parquet(df, \"fake_visiumHD.parquet\")\n",
    "df_parquet = dd.read_parquet(\"data/fake_visiumHD.parquet\")\n",
    "print(f'the read file is  \\n {df_parquet.compute()}')"
   ]
  },
  {
   "cell_type": "code",
   "execution_count": null,
   "id": "angry-toyota",
   "metadata": {},
   "outputs": [],
   "source": []
  }
 ],
 "metadata": {
  "kernelspec": {
   "display_name": "teichlab",
   "language": "python",
   "name": "teichlab"
  },
  "language_info": {
   "codemirror_mode": {
    "name": "ipython",
    "version": 3
   },
   "file_extension": ".py",
   "mimetype": "text/x-python",
   "name": "python",
   "nbconvert_exporter": "python",
   "pygments_lexer": "ipython3",
   "version": "3.8.8"
  }
 },
 "nbformat": 4,
 "nbformat_minor": 5
}
